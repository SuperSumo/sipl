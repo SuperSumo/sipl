{
 "cells": [
  {
   "cell_type": "markdown",
   "metadata": {},
   "source": [
    "# Setup\n",
    "\n",
    "## Start Hadoop Services\n",
    "\n",
    "1. Open a console and start the Hadoop services:\n",
    "> start-dfs.sh  \n",
    "> start-yarn.sh \n",
    "\n",
    "- Open the webpages associated with Hadoop:\n",
    "    - [Hadoop Control Panel](http://localhost:8088/cluster)\n",
    "    - [HDFS Directory](http://localhost:50070/explorer.html#/)\n",
    "\n",
    "## Start Spark Services\n",
    "\n",
    "1. Open a console and start the Spark master and slaves:\n",
    "> start-master.sh  \n",
    "> start-slaves.sh\n",
    "\n",
    "- Open the webpages associated with Spark:\n",
    "    - [Spark Master](http://localhost:8080/)\n",
    "    - [Spark Job](http://localhost:4040/stages/)"
   ]
  },
  {
   "cell_type": "markdown",
   "metadata": {},
   "source": [
    "## Imports"
   ]
  },
  {
   "cell_type": "code",
   "execution_count": null,
   "metadata": {
    "collapsed": false
   },
   "outputs": [],
   "source": [
    "import pyspark\n",
    "import numpy as np\n",
    "\n",
    "from sipl.image import PILImageIn, ImageToPIL, dstack\n",
    "from sipl.hdfs import hdfs_rm, hdfs_exists, HDFSToRDD, RDDToHDFS\n",
    "from sipl.spark import ImageToRDD, RDDToImage"
   ]
  },
  {
   "cell_type": "markdown",
   "metadata": {},
   "source": [
    "## PIL Inline Display Function"
   ]
  },
  {
   "cell_type": "code",
   "execution_count": null,
   "metadata": {
    "collapsed": false
   },
   "outputs": [],
   "source": [
    "# Register image display with IPython\n",
    "# http://nbviewer.ipython.org/gist/deeplook/5162445\n",
    "from io import BytesIO\n",
    "from IPython.core import display\n",
    "from PIL import Image\n",
    "\n",
    "def display_pil_image(im):\n",
    "   b = BytesIO()\n",
    "   im.save(b, format='png')\n",
    "   data = b.getvalue()\n",
    "   ip_img = display.Image(data=data, format='png', embed=True)\n",
    "   return ip_img._repr_png_()\n",
    "\n",
    "png_formatter = get_ipython().display_formatter.formatters['image/png']\n",
    "dpi = png_formatter.for_type(Image.Image, display_pil_image)"
   ]
  },
  {
   "cell_type": "markdown",
   "metadata": {},
   "source": [
    "# Code Starts Here"
   ]
  },
  {
   "cell_type": "markdown",
   "metadata": {},
   "source": [
    "## Create a Spark context"
   ]
  },
  {
   "cell_type": "code",
   "execution_count": null,
   "metadata": {
    "collapsed": false
   },
   "outputs": [],
   "source": [
    "sc = pyspark.SparkContext(master=\"spark://pootar:7077\",\n",
    "                          appName=\"Spark Image Distribution\")"
   ]
  },
  {
   "cell_type": "markdown",
   "metadata": {},
   "source": [
    "## Load data\n",
    "### from disk"
   ]
  },
  {
   "cell_type": "code",
   "execution_count": null,
   "metadata": {
    "collapsed": false
   },
   "outputs": [],
   "source": [
    "filename = \"data/cheetah.jpg\"\n",
    "imageIn = PILImageIn()(filename)\n",
    "rdd = ImageToRDD(context=sc)(imageIn)\n",
    "rdd.cache()\n",
    "# Send the data to HDFS if needed\n",
    "# RDDToHDFS(filename=\"hdfs://pootar:9000/cheetah.rdd\")(rdd)"
   ]
  },
  {
   "cell_type": "markdown",
   "metadata": {},
   "source": [
    "### or from hdfs"
   ]
  },
  {
   "cell_type": "code",
   "execution_count": null,
   "metadata": {
    "collapsed": false
   },
   "outputs": [],
   "source": [
    "hdfsFilename = \"hdfs://localhost:9000/cheetah.rdd\"\n",
    "rdd = HDFSToRDD(context=sc)(hdfsFilename)"
   ]
  },
  {
   "cell_type": "markdown",
   "metadata": {},
   "source": [
    "### A small function to change something about the image"
   ]
  },
  {
   "cell_type": "code",
   "execution_count": null,
   "metadata": {
    "collapsed": false
   },
   "outputs": [],
   "source": [
    "def change(x):\n",
    "    size = x._dimData[0][\"proc_grid_rank\"] + 1\n",
    "    rank = x._dimData[0][\"proc_grid_size\"]\n",
    "    factor = float(size) / rank\n",
    "    return (x*factor).astype(np.uint8)"
   ]
  },
  {
   "cell_type": "code",
   "execution_count": null,
   "metadata": {
    "collapsed": false
   },
   "outputs": [],
   "source": [
    "ImageToPIL(decimationFactor=4)(RDDToImage()(rdd.map(change)))"
   ]
  },
  {
   "cell_type": "code",
   "execution_count": null,
   "metadata": {
    "collapsed": false
   },
   "outputs": [],
   "source": [
    "import time\n",
    "def random_color_channel(x):\n",
    "    r = x[:, :, 0] + int((time.time()*100000) % 255)\n",
    "    g = x[:, :, 1] + int((time.time()*100000) % 255)\n",
    "    b = x[:, :, 2] + int((time.time()*100000) % 255)\n",
    "    return dstack((r, g, b))"
   ]
  },
  {
   "cell_type": "code",
   "execution_count": null,
   "metadata": {
    "collapsed": false,
    "scrolled": false
   },
   "outputs": [],
   "source": [
    "ImageToPIL(decimationFactor=4)(RDDToImage()(rdd.map(random_color_channel)))"
   ]
  },
  {
   "cell_type": "markdown",
   "metadata": {},
   "source": [
    "### Stop the Spark Context"
   ]
  },
  {
   "cell_type": "code",
   "execution_count": null,
   "metadata": {
    "collapsed": true
   },
   "outputs": [],
   "source": [
    "# sc.stop()"
   ]
  }
 ],
 "metadata": {
  "kernelspec": {
   "display_name": "Python 2",
   "language": "python",
   "name": "python2"
  },
  "language_info": {
   "codemirror_mode": {
    "name": "ipython",
    "version": 2
   },
   "file_extension": ".py",
   "mimetype": "text/x-python",
   "name": "python",
   "nbconvert_exporter": "python",
   "pygments_lexer": "ipython2",
   "version": "2.7.10"
  }
 },
 "nbformat": 4,
 "nbformat_minor": 0
}
