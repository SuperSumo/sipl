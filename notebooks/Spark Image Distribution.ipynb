{
 "metadata": {
  "name": "",
  "signature": "sha256:d0fce83a1a0df2e3da8035c2ddf49a055d689a379cb41bc6da72f306c6c683bf"
 },
 "nbformat": 3,
 "nbformat_minor": 0,
 "worksheets": [
  {
   "cells": [
    {
     "cell_type": "markdown",
     "metadata": {},
     "source": [
      "# Setup\n",
      "\n",
      "## Start Hadoop Services\n",
      "\n",
      "1. Open a console and start all the Hadoop services:\n",
      "> start-all.sh  \n",
      "\n",
      "- Open the webpages associated with Hadoop:\n",
      "    - [Hadoop Control Panel](http://localhost:8088/cluster)\n",
      "    - [HDFS Directory](http://localhost:50070/explorer.html#/)\n",
      "\n",
      "## Start Spark Services\n",
      "\n",
      "1. Open a console and start the Spark master:\n",
      "> ~/dev/spark/sbin/start-master.sh\n",
      "\n",
      "- Start the slaves (hostname per line in spark/conf/slaves):\n",
      "> ~/dev/spark/sbin/start-slaves.sh\n",
      "\n",
      "- Open the webpages associated with Spark:\n",
      "    - [Spark Master](http://localhost:8080/)\n",
      "    - [Spark Job](http://localhost:4040/stages/)"
     ]
    },
    {
     "cell_type": "markdown",
     "metadata": {},
     "source": [
      "## Imports"
     ]
    },
    {
     "cell_type": "code",
     "collapsed": false,
     "input": [
      "import pyspark\n",
      "import numpy as np\n",
      "\n",
      "from sipl.image import PILImageIn, ImageToPIL, dstack\n",
      "from sipl.hdfs import hdfs_rm, hdfs_exists, HDFSToRDD\n",
      "from sipl.spark import ImageToRDD, RDDToImage"
     ],
     "language": "python",
     "metadata": {},
     "outputs": [],
     "prompt_number": 1
    },
    {
     "cell_type": "markdown",
     "metadata": {},
     "source": [
      "## PIL Inline Display Function"
     ]
    },
    {
     "cell_type": "code",
     "collapsed": false,
     "input": [
      "# Register image display with IPython\n",
      "# http://nbviewer.ipython.org/gist/deeplook/5162445\n",
      "from io import BytesIO\n",
      "from IPython.core import display\n",
      "from PIL import Image\n",
      "\n",
      "def display_pil_image(im):\n",
      "   b = BytesIO()\n",
      "   im.save(b, format='png')\n",
      "   data = b.getvalue()\n",
      "   ip_img = display.Image(data=data, format='png', embed=True)\n",
      "   return ip_img._repr_png_()\n",
      "\n",
      "png_formatter = get_ipython().display_formatter.formatters['image/png']\n",
      "dpi = png_formatter.for_type(Image.Image, display_pil_image)"
     ],
     "language": "python",
     "metadata": {},
     "outputs": [],
     "prompt_number": 2
    },
    {
     "cell_type": "markdown",
     "metadata": {},
     "source": [
      "# Code Starts Here"
     ]
    },
    {
     "cell_type": "markdown",
     "metadata": {},
     "source": [
      "## Create a Spark context"
     ]
    },
    {
     "cell_type": "code",
     "collapsed": false,
     "input": [
      "sc = pyspark.SparkContext(master=\"spark://pootar:7077\",\n",
      "                          appName=\"Spark Image Distribution\")"
     ],
     "language": "python",
     "metadata": {},
     "outputs": [],
     "prompt_number": 3
    },
    {
     "cell_type": "markdown",
     "metadata": {},
     "source": [
      "## Either load\n",
      "### from disk"
     ]
    },
    {
     "cell_type": "code",
     "collapsed": false,
     "input": [
      "# filename = \"cheetah.jpg\n",
      "# imageIn = PILImageIn()(filename)\n",
      "# rdd = ImageToRDD(context=sc)(imageIn)"
     ],
     "language": "python",
     "metadata": {},
     "outputs": [],
     "prompt_number": 4
    },
    {
     "cell_type": "markdown",
     "metadata": {},
     "source": [
      "### or from hdfs"
     ]
    },
    {
     "cell_type": "code",
     "collapsed": false,
     "input": [
      "hdfsFilename = \"hdfs://localhost:9000/cheetah.rdd\"\n",
      "rdd = HDFSToRDD(context=sc)(hdfsFilename)"
     ],
     "language": "python",
     "metadata": {},
     "outputs": [],
     "prompt_number": 5
    },
    {
     "cell_type": "code",
     "collapsed": false,
     "input": [
      "def change(x):\n",
      "    size = x._dimData[0][\"proc_grid_rank\"] + 1\n",
      "    rank = x._dimData[0][\"proc_grid_size\"]\n",
      "    factor = float(size) / rank\n",
      "    return (x*factor).astype(np.uint8)"
     ],
     "language": "python",
     "metadata": {},
     "outputs": [],
     "prompt_number": 15
    },
    {
     "cell_type": "code",
     "collapsed": false,
     "input": [
      "ImageToPIL()(RDDToImage()(rdd.map(change)))"
     ],
     "language": "python",
     "metadata": {},
     "outputs": []
    },
    {
     "cell_type": "code",
     "collapsed": false,
     "input": [
      "import time\n",
      "def random_color_channel(x):\n",
      "    r = x[:, :, 0] + int((time.time()*100000) % 255)\n",
      "    g = x[:, :, 1] + int((time.time()*100000) % 255)\n",
      "    b = x[:, :, 2] + int((time.time()*100000) % 255)\n",
      "    return dstack((r, g, b))"
     ],
     "language": "python",
     "metadata": {},
     "outputs": [],
     "prompt_number": 7
    },
    {
     "cell_type": "code",
     "collapsed": false,
     "input": [
      "ImageToPIL()(RDDToImage()(rdd.map(random_color_channel)))"
     ],
     "language": "python",
     "metadata": {},
     "outputs": []
    }
   ],
   "metadata": {}
  }
 ]
}